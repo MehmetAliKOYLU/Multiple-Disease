{
 "cells": [
  {
   "cell_type": "code",
   "execution_count": null,
   "id": "a4be3b26-f0d2-439f-922d-63d1656be373",
   "metadata": {},
   "outputs": [],
   "source": [
    "import pandas as pd\n"
   ]
  },
  {
   "cell_type": "code",
   "execution_count": null,
   "id": "80b4830a-faed-4299-9f1f-c299f1ed5a62",
   "metadata": {},
   "outputs": [],
   "source": [
    "df = pd.read_csv(\"https://raw.githubusercontent.com/MehmetAliKOYLU/Dataset/refs/heads/main/MultipleDiseasePrediction.csv\")\n",
    "df.head()"
   ]
  },
  {
   "cell_type": "code",
   "execution_count": null,
   "id": "1c4a11b8-1b9d-464f-9262-f31f45bfc46c",
   "metadata": {},
   "outputs": [],
   "source": [
    "df.info()"
   ]
  },
  {
   "cell_type": "code",
   "execution_count": null,
   "id": "e07d922f-de08-4afd-85e8-810fef59006e",
   "metadata": {},
   "outputs": [],
   "source": [
    "df.columns"
   ]
  },
  {
   "cell_type": "code",
   "execution_count": null,
   "id": "1bc46e78-c5f4-4854-b3fb-1d3d426ff210",
   "metadata": {},
   "outputs": [],
   "source": [
    "X = df.drop(['prognosis'],axis=1)\n",
    "y = df['prognosis']"
   ]
  },
  {
   "cell_type": "code",
   "execution_count": null,
   "id": "fc60b9d7-9b77-4e17-a971-79f67254a502",
   "metadata": {},
   "outputs": [],
   "source": [
    "import matplotlib.pyplot as plt \n",
    "import seaborn as sns\n",
    "#korelasyonlara bakalım\n",
    "plt.figure()\n",
    "cor=X.corr()\n",
    "sns.heatmap(cor)\n",
    "plt.show()"
   ]
  },
  {
   "cell_type": "code",
   "execution_count": 89,
   "id": "32ff307a-6846-4e1d-a4e4-79a95ef1be94",
   "metadata": {},
   "outputs": [],
   "source": [
    "from sklearn.model_selection import train_test_split\n",
    "X_train, X_test, y_train, y_test = train_test_split(X,y, test_size=0.40, random_state=42)"
   ]
  },
  {
   "cell_type": "code",
   "execution_count": 90,
   "id": "1bd9abd8-cc1c-4a3f-a2fc-b52d2ce20d3c",
   "metadata": {},
   "outputs": [
    {
     "data": {
      "text/plain": [
       "((2952, 132), (1968, 132), (2952,), (1968,))"
      ]
     },
     "execution_count": 90,
     "metadata": {},
     "output_type": "execute_result"
    }
   ],
   "source": [
    "X_train.shape, X_test.shape, y_train.shape, y_test.shape"
   ]
  },
  {
   "cell_type": "code",
   "execution_count": 95,
   "id": "75c782b6-7e93-48f0-b822-0654f4693dc5",
   "metadata": {},
   "outputs": [
    {
     "name": "stdout",
     "output_type": "stream",
     "text": [
      "Random Forest Accuracy: 0.8567073170731707\n"
     ]
    }
   ],
   "source": [
    "from sklearn.ensemble import RandomForestClassifier\n",
    "from sklearn.feature_selection import RFE\n",
    "\n",
    "selector = RFE(model, n_features_to_select=20, step=1)\n",
    "selector = selector.fit(X_train, y_train)\n",
    "X_train_selected = selector.transform(X_train)\n",
    "X_test_selected = selector.transform(X_test)\n",
    "\n",
    "\n",
    "\n",
    "rf_model = RandomForestClassifier(random_state=42)\n",
    "rf_model.fit(X_train_selected, y_train)\n",
    "y_pred_rf = rf_model.predict(X_test_selected)\n",
    "print(\"Random Forest Accuracy:\", accuracy_score(y_test, y_pred_rf))"
   ]
  },
  {
   "cell_type": "code",
   "execution_count": 96,
   "id": "d3d1c72a-4e84-40b0-8ed3-fdbd6b6794b0",
   "metadata": {},
   "outputs": [
    {
     "name": "stdout",
     "output_type": "stream",
     "text": [
      "Çapraz Doğrulama Skorları: [0.85956007 0.86971235 0.86271186 0.86101695 0.86779661]\n",
      "Ortalama Çapraz Doğrulama Skoru: 0.8641595686713126\n"
     ]
    }
   ],
   "source": [
    "from sklearn.model_selection import cross_val_score\n",
    "\n",
    "scores = cross_val_score(rf_model, X_train_selected, y_train, cv=5)\n",
    "print(\"Çapraz Doğrulama Skorları:\", scores)\n",
    "print(\"Ortalama Çapraz Doğrulama Skoru:\", scores.mean())\n"
   ]
  },
  {
   "cell_type": "code",
   "execution_count": 100,
   "id": "9c7d9f6d-1d8d-41bf-9639-656ef169df19",
   "metadata": {},
   "outputs": [
    {
     "name": "stdout",
     "output_type": "stream",
     "text": [
      "['Acne', 'Acne', 'Hyperthyroidism', 'AIDS', 'Chronic cholestasis', 'Hypertension ', 'Hypoglycemia', 'Cervical spondylosis', 'Hepatitis B', 'Migraine', 'Cervical spondylosis', 'Diabetes ', 'Hepatitis D', 'Psoriasis', 'Alcoholic hepatitis', 'Alcoholic hepatitis', 'Cervical spondylosis', 'Hepatitis E', 'Diabetes ', 'Cervical spondylosis', 'Bronchial Asthma', 'hepatitis A', 'Hepatitis B', 'Bronchial Asthma', 'Allergy', 'Hepatitis C', 'Pneumonia', 'Migraine', 'Hypothyroidism', 'Migraine', 'Chronic cholestasis', 'Hepatitis B', 'Gastroenteritis', 'Hepatitis D', 'Varicose veins', 'Migraine', 'Jaundice', 'Drug Reaction', 'Pneumonia', 'Cervical spondylosis', 'Hepatitis C', '(vertigo) Paroymsal  Positional Vertigo', 'Hypertension ', 'Diabetes ', 'Jaundice', 'Gastroenteritis', 'Hypoglycemia', 'Hepatitis B', 'Psoriasis', 'Psoriasis', 'Heart attack', 'Tuberculosis', 'Varicose veins', 'Allergy', 'Hyperthyroidism', 'Hepatitis C', 'Typhoid', 'Common Cold', 'Cervical spondylosis', 'Peptic ulcer diseae', 'Hypoglycemia', 'Hyperthyroidism', 'Tuberculosis', 'Heart attack', '(vertigo) Paroymsal  Positional Vertigo', 'Hypothyroidism', 'Paralysis (brain hemorrhage)', 'AIDS', '(vertigo) Paroymsal  Positional Vertigo', 'Cervical spondylosis', 'Drug Reaction', 'Bronchial Asthma', 'Acne', 'Hepatitis E', 'Hypothyroidism', 'Chronic cholestasis', 'Impetigo', 'Impetigo', 'Pneumonia', 'Migraine', 'Hypertension ', 'Impetigo', 'GERD', 'Drug Reaction', 'Hepatitis B', 'AIDS', 'Jaundice', 'Gastroenteritis', '(vertigo) Paroymsal  Positional Vertigo', 'Dengue', 'Hypothyroidism', 'Malaria', 'Hepatitis D', 'Alcoholic hepatitis', 'Tuberculosis', 'Gastroenteritis', 'Malaria', 'Heart attack', 'Pneumonia', 'Dengue', 'Hypertension ', 'Bronchial Asthma', 'Alcoholic hepatitis', 'Allergy', 'Peptic ulcer diseae', 'Cervical spondylosis', 'GERD', 'Migraine', 'Hepatitis E', 'AIDS', 'Hepatitis D', 'Varicose veins', 'Heart attack', 'Hypoglycemia', 'Diabetes ', 'Drug Reaction', 'Hypothyroidism', 'Jaundice', 'Hypoglycemia', 'Alcoholic hepatitis', 'Cervical spondylosis', 'Psoriasis', 'Paralysis (brain hemorrhage)', 'Chicken pox', 'Cervical spondylosis', 'Pneumonia', 'Gastroenteritis', 'Hyperthyroidism', 'Acne', 'Osteoarthristis', 'Dengue', 'Cervical spondylosis', 'Cervical spondylosis', 'Cervical spondylosis', 'Chronic cholestasis', 'Acne', 'Hepatitis B', 'Pneumonia', 'Cervical spondylosis', 'Typhoid', 'Peptic ulcer diseae', 'Heart attack', 'Psoriasis', 'Hepatitis B', 'Hepatitis D', 'Osteoarthristis', 'Drug Reaction', 'Varicose veins', 'Tuberculosis', 'Alcoholic hepatitis', 'Diabetes ', 'Osteoarthristis', 'Peptic ulcer diseae', 'Typhoid', 'Hypertension ', 'Typhoid', 'Hypoglycemia', 'Hepatitis D', 'Alcoholic hepatitis', 'Allergy', 'AIDS', 'Jaundice', 'AIDS', 'Heart attack', 'hepatitis A', 'Typhoid', 'Malaria', 'Bronchial Asthma', 'Impetigo', 'Hyperthyroidism', 'Hepatitis D', 'Hepatitis D', 'hepatitis A', 'Gastroenteritis', 'Pneumonia', 'Impetigo', 'Cervical spondylosis', 'hepatitis A', 'Common Cold', 'Chicken pox', 'Malaria', 'AIDS', 'Allergy', 'hepatitis A', 'Migraine', 'Typhoid', 'Diabetes ', 'Hepatitis B', 'Dengue', 'Cervical spondylosis', 'Typhoid', 'Cervical spondylosis', 'Varicose veins', 'Pneumonia', 'Hepatitis E', 'Chicken pox', 'Drug Reaction', 'Cervical spondylosis', 'Hepatitis B', 'Osteoarthristis', 'Gastroenteritis', 'hepatitis A', 'Cervical spondylosis', 'Dengue', 'Drug Reaction', '(vertigo) Paroymsal  Positional Vertigo', 'GERD', 'Allergy', 'Chronic cholestasis', 'Chicken pox', 'Hepatitis B', 'Osteoarthristis', 'Heart attack', 'Cervical spondylosis', 'Gastroenteritis', 'Jaundice', 'Malaria', 'Heart attack', 'Chronic cholestasis', 'Hepatitis D', 'Dengue', 'Alcoholic hepatitis', 'Alcoholic hepatitis', 'Hypertension ', 'Paralysis (brain hemorrhage)', 'hepatitis A', 'Chicken pox', 'Gastroenteritis', 'Hypothyroidism', 'Psoriasis', 'Cervical spondylosis', 'Cervical spondylosis', 'Typhoid', 'Pneumonia', 'Psoriasis', 'Drug Reaction', 'Osteoarthristis', 'Bronchial Asthma', 'Diabetes ', 'Cervical spondylosis', 'Pneumonia', 'Hepatitis C', 'Cervical spondylosis', 'Varicose veins', 'Paralysis (brain hemorrhage)', 'Tuberculosis', 'Tuberculosis', 'Chronic cholestasis', 'Hypertension ', 'Heart attack', 'Hepatitis B', 'Hepatitis E', 'Cervical spondylosis', 'Dengue', 'Impetigo', 'Pneumonia', 'Cervical spondylosis', 'Common Cold', 'Common Cold', 'AIDS', 'Heart attack', 'Common Cold', 'Common Cold', 'Drug Reaction', '(vertigo) Paroymsal  Positional Vertigo', 'Hypothyroidism', 'Common Cold', 'Chicken pox', 'Cervical spondylosis', 'Hypoglycemia', 'Hypothyroidism', 'Cervical spondylosis', 'Malaria', 'Typhoid', 'Hypothyroidism', 'GERD', 'Migraine', 'Impetigo', 'Pneumonia', 'AIDS', 'Typhoid', 'Hyperthyroidism', 'hepatitis A', 'Psoriasis', 'Hyperthyroidism', 'Peptic ulcer diseae', 'Bronchial Asthma', 'Tuberculosis', 'Diabetes ', 'Peptic ulcer diseae', 'GERD', 'Dengue', 'Hepatitis E', 'hepatitis A', 'Drug Reaction', 'Dengue', 'Hepatitis B', 'Drug Reaction', 'AIDS', 'Acne', 'Tuberculosis', 'AIDS', 'Impetigo', 'Hepatitis E', 'Psoriasis', 'Hepatitis B', 'Hypertension ', 'Cervical spondylosis', 'GERD', 'Paralysis (brain hemorrhage)', 'Hepatitis C', 'Drug Reaction', 'Peptic ulcer diseae', 'AIDS', 'Hypoglycemia', 'Cervical spondylosis', 'Bronchial Asthma', 'Hepatitis C', 'Cervical spondylosis', 'Acne', 'hepatitis A', 'Hepatitis E', 'Migraine', 'Hypertension ', 'Cervical spondylosis', 'Migraine', 'Hypertension ', 'AIDS', 'AIDS', 'Typhoid', 'Dengue', 'Cervical spondylosis', 'Cervical spondylosis', 'Hepatitis B', 'Hepatitis D', 'Hyperthyroidism', 'Common Cold', 'Alcoholic hepatitis', 'GERD', 'Cervical spondylosis', 'Hepatitis C', 'Dengue', 'Psoriasis', 'Acne', 'Allergy', 'AIDS', 'GERD', 'Gastroenteritis', 'Alcoholic hepatitis', 'hepatitis A', 'Dengue', 'Varicose veins', 'Malaria', 'Hepatitis D', 'Cervical spondylosis', 'Diabetes ', 'Osteoarthristis', 'Varicose veins', 'Drug Reaction', 'Impetigo', 'hepatitis A', 'Malaria', 'Impetigo', 'Hypertension ', 'Jaundice', 'Gastroenteritis', 'Hyperthyroidism', 'Hepatitis E', 'Varicose veins', 'Hypoglycemia', 'Common Cold', 'Bronchial Asthma', 'Chicken pox', 'Migraine', 'Pneumonia', 'Hypertension ', 'Diabetes ', 'Drug Reaction', 'Jaundice', 'Hepatitis C', 'Cervical spondylosis', 'Acne', 'Cervical spondylosis', 'Cervical spondylosis', 'Malaria', '(vertigo) Paroymsal  Positional Vertigo', 'Alcoholic hepatitis', 'Common Cold', 'Gastroenteritis', 'Dengue', 'Chronic cholestasis', 'Bronchial Asthma', 'Cervical spondylosis', 'Cervical spondylosis', 'Hepatitis D', '(vertigo) Paroymsal  Positional Vertigo', 'Hepatitis D', 'Diabetes ', 'Drug Reaction', 'Jaundice', 'Cervical spondylosis', 'Osteoarthristis', 'Gastroenteritis', 'Cervical spondylosis', 'Psoriasis', 'Hypertension ', 'Hypothyroidism', 'Bronchial Asthma', 'Migraine', 'Cervical spondylosis', 'Hepatitis E', 'Jaundice', 'Hyperthyroidism', 'Hepatitis D', 'Alcoholic hepatitis', 'Cervical spondylosis', 'Common Cold', 'Allergy', 'Drug Reaction', 'Hyperthyroidism', 'Allergy', 'Dengue', 'Chicken pox', 'Hepatitis E', 'Osteoarthristis', 'Common Cold', 'Hepatitis C', 'Hypoglycemia', 'Bronchial Asthma', 'Allergy', 'Hypoglycemia', 'Cervical spondylosis', 'Allergy', 'Bronchial Asthma', 'Hepatitis C', 'Hepatitis C', 'Heart attack', 'Hepatitis E', 'Cervical spondylosis', 'Bronchial Asthma', 'Hypoglycemia', 'Acne', 'Hypothyroidism', 'Paralysis (brain hemorrhage)', 'Cervical spondylosis', 'Tuberculosis', 'Drug Reaction', 'hepatitis A', 'Peptic ulcer diseae', 'GERD', 'Hepatitis E', 'Hyperthyroidism', 'Hypertension ', 'Allergy', 'Hypothyroidism', 'Drug Reaction', 'hepatitis A', 'Hepatitis E', 'Malaria', 'Malaria', 'Jaundice', '(vertigo) Paroymsal  Positional Vertigo', 'hepatitis A', 'Osteoarthristis', 'Cervical spondylosis', 'Hypertension ', 'hepatitis A', 'Hepatitis C', 'Hypoglycemia', 'Drug Reaction', 'Common Cold', 'Bronchial Asthma', 'Heart attack', 'Paralysis (brain hemorrhage)', 'Bronchial Asthma', 'Dengue', 'Alcoholic hepatitis', 'AIDS', 'Acne', 'Dengue', 'Gastroenteritis', 'Heart attack', 'Hepatitis E', 'Gastroenteritis', 'Tuberculosis', 'Hypothyroidism', 'Cervical spondylosis', 'Peptic ulcer diseae', 'Cervical spondylosis', 'Tuberculosis', 'Dengue', 'Chronic cholestasis', 'Varicose veins', 'Hypertension ', 'AIDS', 'Alcoholic hepatitis', 'Hypoglycemia', 'Hypoglycemia', 'Cervical spondylosis', 'Hepatitis E', 'Acne', 'Bronchial Asthma', 'GERD', 'hepatitis A', 'Pneumonia', 'Cervical spondylosis', 'Drug Reaction', 'Diabetes ', 'Jaundice', 'Chronic cholestasis', 'GERD', 'Bronchial Asthma', 'AIDS', 'Cervical spondylosis', 'Drug Reaction', 'Hepatitis C', '(vertigo) Paroymsal  Positional Vertigo', 'Psoriasis', 'Gastroenteritis', 'Psoriasis', 'Paralysis (brain hemorrhage)', 'Hyperthyroidism', 'Acne', 'Tuberculosis', 'Psoriasis', 'Diabetes ', 'Alcoholic hepatitis', 'Bronchial Asthma', 'Cervical spondylosis', 'Pneumonia', 'hepatitis A', 'Alcoholic hepatitis', '(vertigo) Paroymsal  Positional Vertigo', 'Hepatitis B', 'Malaria', 'Alcoholic hepatitis', 'Pneumonia', 'Varicose veins', 'Varicose veins', 'Acne', 'Jaundice', 'Paralysis (brain hemorrhage)', 'Hepatitis E', 'Cervical spondylosis', 'Paralysis (brain hemorrhage)', 'Acne', 'Acne', 'Diabetes ', 'Allergy', 'Cervical spondylosis', 'Cervical spondylosis', 'AIDS', 'Drug Reaction', 'Impetigo', 'hepatitis A', 'Jaundice', 'Acne', 'Hepatitis E', 'Pneumonia', 'Alcoholic hepatitis', 'Hepatitis B', 'Hepatitis C', 'Hyperthyroidism', 'Varicose veins', 'Typhoid', 'GERD', 'Tuberculosis', 'Impetigo', 'Tuberculosis', 'Drug Reaction', 'Pneumonia', 'AIDS', 'Hepatitis B', 'Hepatitis E', 'AIDS', 'Hypothyroidism', 'Chicken pox', 'Hepatitis D', 'Typhoid', 'AIDS', 'Cervical spondylosis', 'Hypertension ', 'Hypertension ', 'GERD', 'Alcoholic hepatitis', 'AIDS', 'Impetigo', 'Osteoarthristis', 'Cervical spondylosis', 'Hepatitis E', 'Pneumonia', 'Chronic cholestasis', 'Hypertension ', 'hepatitis A', 'Common Cold', 'Diabetes ', '(vertigo) Paroymsal  Positional Vertigo', 'Hypoglycemia', 'Heart attack', 'Cervical spondylosis', 'Cervical spondylosis', 'Paralysis (brain hemorrhage)', 'Cervical spondylosis', 'Hypoglycemia', 'Hypothyroidism', 'Cervical spondylosis', 'GERD', 'Dengue', 'Malaria', 'Migraine', 'Hypoglycemia', 'Paralysis (brain hemorrhage)', 'Impetigo', 'Impetigo', 'Hepatitis D', 'Diabetes ', 'Hyperthyroidism', 'Hypertension ', 'Gastroenteritis', 'Diabetes ', 'Migraine', 'AIDS', 'Hepatitis D', 'Migraine', 'Tuberculosis', 'Heart attack', 'Hepatitis D', 'Cervical spondylosis', 'Cervical spondylosis', 'Chicken pox', 'Paralysis (brain hemorrhage)', 'Hepatitis E', 'Malaria', 'Hyperthyroidism', 'Hypertension ', 'Osteoarthristis', 'Common Cold', 'hepatitis A', 'Tuberculosis', 'Pneumonia', 'Hypertension ', 'Tuberculosis', 'hepatitis A', 'Cervical spondylosis', 'Osteoarthristis', 'Drug Reaction', 'Hypothyroidism', 'Hyperthyroidism', 'Tuberculosis', 'Pneumonia', 'Bronchial Asthma', 'Paralysis (brain hemorrhage)', 'Alcoholic hepatitis', 'Varicose veins', 'hepatitis A', 'Malaria', 'hepatitis A', 'Cervical spondylosis', 'Malaria', 'Drug Reaction', 'Heart attack', 'Paralysis (brain hemorrhage)', 'Hepatitis B', '(vertigo) Paroymsal  Positional Vertigo', 'Hepatitis D', 'Heart attack', 'Hepatitis D', 'AIDS', 'Cervical spondylosis', 'GERD', 'Hypertension ', 'Gastroenteritis', 'Cervical spondylosis', 'Paralysis (brain hemorrhage)', 'Paralysis (brain hemorrhage)', 'Cervical spondylosis', 'Allergy', 'Cervical spondylosis', 'Cervical spondylosis', 'hepatitis A', 'Acne', 'Cervical spondylosis', 'Malaria', 'Cervical spondylosis', 'Alcoholic hepatitis', 'Cervical spondylosis', 'Hypothyroidism', 'Hepatitis D', 'Dengue', 'Paralysis (brain hemorrhage)', 'Jaundice', 'Hepatitis E', 'Typhoid', 'Cervical spondylosis', 'Tuberculosis', 'Cervical spondylosis', 'Cervical spondylosis', 'Migraine', 'Pneumonia', 'Dengue', 'AIDS', 'Tuberculosis', 'Acne', 'Pneumonia', 'Cervical spondylosis', 'Typhoid', 'Hepatitis E', 'hepatitis A', 'Psoriasis', 'Heart attack', 'GERD', 'Osteoarthristis', 'Hepatitis B', 'Drug Reaction', 'Heart attack', 'Bronchial Asthma', 'GERD', 'GERD', 'Cervical spondylosis', 'Cervical spondylosis', 'Hypertension ', 'Chicken pox', 'Hepatitis C', 'Common Cold', 'Tuberculosis', 'Osteoarthristis', 'Impetigo', 'Alcoholic hepatitis', 'Hepatitis C', 'Migraine', 'Pneumonia', 'Tuberculosis', 'Diabetes ', 'AIDS', 'Osteoarthristis', 'Drug Reaction', 'Cervical spondylosis', 'Hypothyroidism', 'Typhoid', 'Drug Reaction', 'Varicose veins', 'GERD', 'Varicose veins', 'Hepatitis B', '(vertigo) Paroymsal  Positional Vertigo', 'Hepatitis B', 'Hypertension ', 'Hypoglycemia', 'Migraine', 'Hypertension ', 'Gastroenteritis', 'Allergy', 'Hepatitis D', 'Hyperthyroidism', 'Cervical spondylosis', 'Acne', 'Cervical spondylosis', 'GERD', 'Alcoholic hepatitis', 'Diabetes ', 'Drug Reaction', 'Dengue', 'Pneumonia', 'Hepatitis E', 'Hepatitis B', 'Jaundice', 'Migraine', 'Hepatitis C', 'Dengue', 'Hepatitis B', 'Cervical spondylosis', 'Allergy', 'Hypertension ', 'AIDS', 'Hepatitis C', 'Pneumonia', 'Hepatitis B', 'Acne', 'Typhoid', 'Pneumonia', 'Hepatitis C', 'Hypertension ', 'Drug Reaction', 'Chronic cholestasis', 'Cervical spondylosis', 'Tuberculosis', 'Cervical spondylosis', 'Hepatitis D', 'Acne', 'Pneumonia', 'Hypertension ', 'Varicose veins', 'Cervical spondylosis', 'Paralysis (brain hemorrhage)', 'hepatitis A', 'Heart attack', 'Osteoarthristis', 'Bronchial Asthma', 'Varicose veins', 'Pneumonia', 'Osteoarthristis', 'Pneumonia', 'Hepatitis C', 'Acne', 'Paralysis (brain hemorrhage)', 'Cervical spondylosis', 'Acne', 'Cervical spondylosis', 'Drug Reaction', 'Peptic ulcer diseae', 'GERD', 'Pneumonia', 'Hepatitis E', 'hepatitis A', 'Gastroenteritis', 'Chicken pox', 'Acne', 'Cervical spondylosis', 'Paralysis (brain hemorrhage)', 'Hepatitis C', '(vertigo) Paroymsal  Positional Vertigo', 'Impetigo', 'AIDS', 'Malaria', 'Hypothyroidism', 'Bronchial Asthma', 'Hypertension ', 'Paralysis (brain hemorrhage)', 'Cervical spondylosis', 'Cervical spondylosis', 'Drug Reaction', 'Hepatitis D', 'Cervical spondylosis', 'Hypothyroidism', 'Jaundice', 'Peptic ulcer diseae', 'Hepatitis C', 'Osteoarthristis', 'Hepatitis E', 'Typhoid', 'Jaundice', 'Hepatitis C', 'Drug Reaction', 'hepatitis A', 'Peptic ulcer diseae', 'Hepatitis B', 'Tuberculosis', 'Peptic ulcer diseae', 'Chicken pox', 'Allergy', 'Cervical spondylosis', 'Malaria', 'Migraine', 'AIDS', 'Bronchial Asthma', 'Cervical spondylosis', 'Varicose veins', 'Drug Reaction', 'GERD', 'Hypoglycemia', 'Cervical spondylosis', 'Hepatitis C', 'Typhoid', 'Allergy', 'Hepatitis E', 'Dengue', 'Heart attack', 'Common Cold', 'Hypertension ', 'Cervical spondylosis', 'hepatitis A', 'Hypoglycemia', 'Gastroenteritis', 'Migraine', 'Diabetes ', 'Tuberculosis', 'Alcoholic hepatitis', 'Common Cold', 'Cervical spondylosis', 'Osteoarthristis', 'Psoriasis', 'Hypoglycemia', 'Varicose veins', 'Common Cold', 'GERD', 'GERD', 'Chronic cholestasis', 'Dengue', 'AIDS', 'Heart attack', 'Gastroenteritis', 'Cervical spondylosis', 'Chicken pox', 'Bronchial Asthma', 'Migraine', 'Hypoglycemia', 'Drug Reaction', 'Allergy', 'hepatitis A', 'Hypoglycemia', 'Osteoarthristis', 'Allergy', 'Peptic ulcer diseae', 'Drug Reaction', 'Pneumonia', 'Cervical spondylosis', 'Chicken pox', 'AIDS', 'Bronchial Asthma', 'Drug Reaction', 'Cervical spondylosis', 'Cervical spondylosis', 'Chicken pox', 'hepatitis A', 'Varicose veins', 'Malaria', 'Chicken pox', 'Acne', 'Cervical spondylosis', 'Hepatitis C', 'Jaundice', 'Malaria', 'Hyperthyroidism', 'Chicken pox', 'Psoriasis', 'Cervical spondylosis', 'Hepatitis B', 'Hypertension ', 'Chicken pox', 'Allergy', 'Bronchial Asthma', 'Chicken pox', 'Impetigo', 'Chicken pox', 'Cervical spondylosis', 'Cervical spondylosis', 'Hypothyroidism', 'Gastroenteritis', 'Acne', 'Gastroenteritis', 'AIDS', 'Acne', 'AIDS', 'Osteoarthristis', 'Hyperthyroidism', 'Hyperthyroidism', 'Diabetes ', 'Chronic cholestasis', 'Malaria', 'Paralysis (brain hemorrhage)', 'Drug Reaction', 'Hyperthyroidism', 'Hyperthyroidism', 'Alcoholic hepatitis', 'Hepatitis E', 'Hepatitis D', 'Osteoarthristis', 'Alcoholic hepatitis', 'Hepatitis C', 'Acne', 'Hepatitis B', 'Hyperthyroidism', 'AIDS', 'Hypoglycemia', 'Chronic cholestasis', 'Migraine', 'Migraine', 'Cervical spondylosis', 'Drug Reaction', 'hepatitis A', '(vertigo) Paroymsal  Positional Vertigo', 'Impetigo', 'Dengue', 'Varicose veins', 'Hypoglycemia', 'Alcoholic hepatitis', 'Hypertension ', 'Migraine', 'Cervical spondylosis', 'Cervical spondylosis', 'AIDS', 'Dengue', 'Acne', 'Paralysis (brain hemorrhage)', 'Chicken pox', 'Typhoid', 'Hepatitis B', 'Varicose veins', 'Drug Reaction', 'Hepatitis D', 'Malaria', 'Gastroenteritis', 'Bronchial Asthma', 'Bronchial Asthma', 'Varicose veins', 'Impetigo', 'Cervical spondylosis', 'Psoriasis', 'Jaundice', 'Chicken pox', 'Drug Reaction', 'Cervical spondylosis', 'Drug Reaction', 'Hepatitis D', 'Hypertension ', 'Psoriasis', 'Cervical spondylosis', 'GERD', 'Allergy', 'Drug Reaction', 'Cervical spondylosis', 'Hypothyroidism', 'Hepatitis C', 'Cervical spondylosis', 'Gastroenteritis', 'Cervical spondylosis', 'AIDS', 'Diabetes ', 'Common Cold', 'Chronic cholestasis', 'Hepatitis B', 'Hyperthyroidism', 'Chronic cholestasis', 'Malaria', 'Impetigo', 'Psoriasis', 'Pneumonia', 'Typhoid', 'GERD', 'Peptic ulcer diseae', 'Hepatitis B', 'Pneumonia', 'Pneumonia', 'Hepatitis E', 'Psoriasis', 'GERD', 'Cervical spondylosis', 'Hepatitis B', 'Cervical spondylosis', 'Hypoglycemia', 'Typhoid', 'Cervical spondylosis', 'Acne', 'Varicose veins', 'Pneumonia', '(vertigo) Paroymsal  Positional Vertigo', 'Heart attack', 'Hepatitis E', 'Cervical spondylosis', 'Migraine', 'Cervical spondylosis', 'Hepatitis D', 'Hepatitis C', 'Heart attack', 'Common Cold', 'Migraine', 'Cervical spondylosis', 'Hepatitis E', 'Alcoholic hepatitis', 'Varicose veins', 'Jaundice', 'Migraine', 'Pneumonia', 'hepatitis A', 'Tuberculosis', 'AIDS', 'Hepatitis B', 'Gastroenteritis', 'Chicken pox', 'Alcoholic hepatitis', 'GERD', 'Gastroenteritis', 'Alcoholic hepatitis', 'Heart attack', 'Typhoid', 'Allergy', 'Hypothyroidism', 'Drug Reaction', 'AIDS', 'Hypothyroidism', 'Acne', 'Hepatitis B', 'Migraine', 'Jaundice', 'Tuberculosis', 'Paralysis (brain hemorrhage)', 'Impetigo', 'Cervical spondylosis', 'Cervical spondylosis', 'Diabetes ', 'Impetigo', 'Hyperthyroidism', 'Chicken pox', 'Allergy', 'Cervical spondylosis', 'Heart attack', 'Jaundice', 'Cervical spondylosis', 'Jaundice', 'Osteoarthristis', 'Gastroenteritis', 'Cervical spondylosis', 'Hepatitis E', 'Acne', 'Cervical spondylosis', 'Hypothyroidism', 'Acne', 'Allergy', 'Hepatitis C', 'Heart attack', 'Alcoholic hepatitis', 'Hepatitis B', 'Psoriasis', 'Diabetes ', 'Drug Reaction', 'Tuberculosis', 'Bronchial Asthma', 'Chicken pox', 'Chicken pox', 'Acne', 'Chicken pox', 'Hypothyroidism', 'Dengue', 'Migraine', 'Gastroenteritis', 'Cervical spondylosis', 'Varicose veins', 'Acne', 'Hypoglycemia', 'Typhoid', 'Hepatitis B', 'AIDS', 'Cervical spondylosis', 'Hepatitis B', 'Cervical spondylosis', 'Acne', 'Hepatitis C', 'Common Cold', 'Hepatitis E', '(vertigo) Paroymsal  Positional Vertigo', 'Drug Reaction', 'Typhoid', 'Hepatitis D', 'Bronchial Asthma', 'Cervical spondylosis', 'Tuberculosis', 'GERD', 'Jaundice', 'Hepatitis E', 'Hepatitis D', 'AIDS', 'Chicken pox', 'Cervical spondylosis', 'AIDS', 'Hypoglycemia', 'Impetigo', 'Hepatitis E', 'Chronic cholestasis', 'Hypothyroidism', 'Heart attack', 'Migraine', 'Jaundice', 'Hepatitis B', 'Hepatitis E', 'Diabetes ', 'Chronic cholestasis', 'Hepatitis C', 'Drug Reaction', 'Psoriasis', 'Hepatitis C', 'Chronic cholestasis', 'Allergy', 'GERD', 'Cervical spondylosis', 'Alcoholic hepatitis', 'Jaundice', '(vertigo) Paroymsal  Positional Vertigo', 'Hypoglycemia', 'Dengue', 'Alcoholic hepatitis', 'Hypothyroidism', 'Diabetes ', 'Heart attack', 'Chicken pox', 'Chronic cholestasis', 'Migraine', 'Paralysis (brain hemorrhage)', 'Gastroenteritis', 'Drug Reaction', 'AIDS', 'Hypertension ', 'Hypertension ', 'Hypoglycemia', 'Varicose veins', 'Bronchial Asthma', 'hepatitis A', 'Acne', 'Hepatitis D', 'Heart attack', 'Common Cold', 'Diabetes ', 'Paralysis (brain hemorrhage)', 'Gastroenteritis', 'Hypertension ', 'Dengue', '(vertigo) Paroymsal  Positional Vertigo', 'GERD', 'Cervical spondylosis', 'Cervical spondylosis', 'Common Cold', 'Common Cold', 'Diabetes ', 'Cervical spondylosis', '(vertigo) Paroymsal  Positional Vertigo', 'Diabetes ', 'Malaria', 'Tuberculosis', 'Drug Reaction', 'Hepatitis B', 'Hepatitis E', 'Jaundice', 'Alcoholic hepatitis', 'Acne', 'Cervical spondylosis', 'Hypothyroidism', 'Paralysis (brain hemorrhage)', 'Hypoglycemia', 'Hypothyroidism', 'Psoriasis', 'Pneumonia', 'Hepatitis C', 'Hepatitis B', 'Gastroenteritis', 'Osteoarthristis', 'Dengue', 'Pneumonia', 'Bronchial Asthma', 'Osteoarthristis', 'Hypertension ', 'Jaundice', 'Chronic cholestasis', 'Cervical spondylosis', 'Hypoglycemia', 'Hypoglycemia', 'Varicose veins', 'Hyperthyroidism', 'Hyperthyroidism', 'Cervical spondylosis', 'Acne', 'Varicose veins', 'Cervical spondylosis', 'Hepatitis D', 'Chronic cholestasis', 'Typhoid', 'Cervical spondylosis', 'Impetigo', 'Dengue', 'Paralysis (brain hemorrhage)', 'Chronic cholestasis', 'hepatitis A', 'Cervical spondylosis', 'Hyperthyroidism', 'Typhoid', 'Alcoholic hepatitis', 'Gastroenteritis', 'Osteoarthristis', 'Hepatitis B', 'Alcoholic hepatitis', 'Cervical spondylosis', 'GERD', 'Drug Reaction', 'Hypertension ', 'Malaria', 'Hypothyroidism', 'Allergy', 'AIDS', 'Impetigo', 'Alcoholic hepatitis', 'Migraine', 'Typhoid', 'Impetigo', 'Chronic cholestasis', '(vertigo) Paroymsal  Positional Vertigo', 'Hepatitis D', 'Cervical spondylosis', 'Hyperthyroidism', 'Hyperthyroidism', 'Hepatitis E', '(vertigo) Paroymsal  Positional Vertigo', 'Chronic cholestasis', 'Paralysis (brain hemorrhage)', 'Jaundice', 'hepatitis A', 'Acne', 'Hepatitis C', 'Cervical spondylosis', '(vertigo) Paroymsal  Positional Vertigo', '(vertigo) Paroymsal  Positional Vertigo', 'Hyperthyroidism', 'Hepatitis E', 'Diabetes ', 'Chicken pox', 'Varicose veins', 'Malaria', 'Hepatitis B', 'Bronchial Asthma', 'Typhoid', 'Acne', 'Hepatitis E', 'Tuberculosis', 'Psoriasis', 'Hepatitis B', 'Hepatitis E', 'Chicken pox', 'Jaundice', 'Gastroenteritis', 'Psoriasis', 'Alcoholic hepatitis', 'Malaria', 'Hepatitis E', 'Hyperthyroidism', 'Hypoglycemia', 'Acne', 'Peptic ulcer diseae', 'Cervical spondylosis', 'Typhoid', 'Drug Reaction', 'Drug Reaction', 'Dengue', 'Malaria', 'Allergy', 'Dengue', 'Diabetes ', 'Hepatitis C', '(vertigo) Paroymsal  Positional Vertigo', 'Cervical spondylosis', 'Cervical spondylosis', 'Drug Reaction', 'Cervical spondylosis', 'Cervical spondylosis', 'Cervical spondylosis', 'Allergy', 'Gastroenteritis', 'Hepatitis D', '(vertigo) Paroymsal  Positional Vertigo', 'Acne', 'Chronic cholestasis', 'Chicken pox', 'Hyperthyroidism', 'Hepatitis D', '(vertigo) Paroymsal  Positional Vertigo', 'AIDS', 'Alcoholic hepatitis', 'Dengue', 'Peptic ulcer diseae', 'Impetigo', 'Varicose veins', 'Hepatitis B', 'Heart attack', 'GERD', 'Hypoglycemia', 'Heart attack', 'Chronic cholestasis', 'Dengue', 'Tuberculosis', 'Hepatitis B', 'Cervical spondylosis', 'Varicose veins', 'Hepatitis E', 'Hypoglycemia', 'Hepatitis E', 'Acne', 'Impetigo', 'Tuberculosis', 'Tuberculosis', 'Drug Reaction', 'Osteoarthristis', 'Varicose veins', 'Bronchial Asthma', 'Peptic ulcer diseae', 'Hyperthyroidism', 'Hypertension ', 'Varicose veins', 'Heart attack', 'Gastroenteritis', '(vertigo) Paroymsal  Positional Vertigo', 'Hepatitis C', 'Pneumonia', 'Paralysis (brain hemorrhage)', 'Hepatitis D', 'Hepatitis C', 'Pneumonia', 'Chronic cholestasis', 'Hypothyroidism', 'Hepatitis C', 'Bronchial Asthma', 'Pneumonia', 'Cervical spondylosis', 'GERD', 'GERD', 'Bronchial Asthma', 'Typhoid', 'Allergy', 'Dengue', 'Allergy', 'Dengue', 'Pneumonia', 'Drug Reaction', 'Gastroenteritis', 'Alcoholic hepatitis', 'Varicose veins', 'Bronchial Asthma', 'Typhoid', 'Typhoid', 'Jaundice', 'Migraine', 'Hyperthyroidism', 'Hypoglycemia', 'Hepatitis B', 'Hepatitis D', 'Common Cold', 'Hypertension ', 'Hypertension ', 'Malaria', 'Alcoholic hepatitis', 'Hyperthyroidism', 'Jaundice', 'Drug Reaction', 'Paralysis (brain hemorrhage)', 'Hepatitis C', 'Heart attack', 'Jaundice', 'Chronic cholestasis', 'Typhoid', 'Drug Reaction', 'Osteoarthristis', 'Dengue', 'Acne', 'Psoriasis', 'Peptic ulcer diseae', 'Diabetes ', 'Hepatitis B', 'AIDS', 'Cervical spondylosis', 'Tuberculosis', 'Hepatitis D', 'Hypoglycemia', 'Hypoglycemia', 'Varicose veins', 'Hepatitis E', 'Drug Reaction', 'Cervical spondylosis', 'Hypertension ', 'Chicken pox', 'Paralysis (brain hemorrhage)', 'Cervical spondylosis', 'Hepatitis D', 'Acne', 'Cervical spondylosis', 'Hypoglycemia', 'Migraine', 'Paralysis (brain hemorrhage)', 'Common Cold', 'Chicken pox', 'Dengue', '(vertigo) Paroymsal  Positional Vertigo', 'Hypoglycemia', 'Peptic ulcer diseae', 'Diabetes ', 'Cervical spondylosis', 'Hepatitis C', 'Drug Reaction', 'Alcoholic hepatitis', 'Migraine', 'Hypothyroidism', 'Dengue', 'Pneumonia', 'Pneumonia', 'Hypertension ', 'Migraine', 'Gastroenteritis', 'Cervical spondylosis', 'Cervical spondylosis', 'Hyperthyroidism', 'Heart attack', 'Cervical spondylosis', 'Psoriasis', 'Drug Reaction', 'Pneumonia', 'hepatitis A', 'Hyperthyroidism', 'Peptic ulcer diseae', 'Hypoglycemia', 'Common Cold', 'Cervical spondylosis', 'Alcoholic hepatitis', 'Hyperthyroidism', 'Tuberculosis', 'Dengue', 'Diabetes ', 'Dengue', 'Varicose veins', 'Hyperthyroidism', 'AIDS', '(vertigo) Paroymsal  Positional Vertigo', 'Tuberculosis', 'Gastroenteritis', 'Chicken pox', 'Hepatitis E', 'Varicose veins', 'Hepatitis D', 'Malaria', 'GERD', 'Pneumonia', 'Acne', 'Heart attack', 'Hepatitis E', 'Hepatitis B', 'Chicken pox', 'Paralysis (brain hemorrhage)', 'Alcoholic hepatitis', 'Cervical spondylosis', 'Chronic cholestasis', 'Tuberculosis', 'Paralysis (brain hemorrhage)', 'Typhoid', 'hepatitis A', '(vertigo) Paroymsal  Positional Vertigo', 'Dengue', 'Cervical spondylosis', 'Hypertension ', 'Typhoid', 'Cervical spondylosis', 'Alcoholic hepatitis', 'Alcoholic hepatitis', 'Osteoarthristis', 'Common Cold', 'Hypothyroidism', 'GERD', 'Cervical spondylosis', 'Typhoid', 'Hepatitis E', 'Malaria', 'Drug Reaction', 'Bronchial Asthma', 'Cervical spondylosis', 'Alcoholic hepatitis', 'Jaundice', 'Migraine', 'Dengue', 'Drug Reaction', 'Hypertension ', 'Drug Reaction', 'Pneumonia', 'AIDS', 'Paralysis (brain hemorrhage)', 'Malaria', 'Cervical spondylosis', 'Acne', 'Hypothyroidism', 'Gastroenteritis', 'Drug Reaction', 'Typhoid', 'AIDS', 'Heart attack', 'Allergy', 'Cervical spondylosis', 'Paralysis (brain hemorrhage)', 'GERD', 'Hyperthyroidism', 'Typhoid', 'Cervical spondylosis', 'Cervical spondylosis', 'Dengue', 'Pneumonia', 'Cervical spondylosis', 'Hepatitis D', 'Hypothyroidism', 'Migraine', 'Common Cold', 'hepatitis A', 'Typhoid', 'Cervical spondylosis', 'Dengue', 'Varicose veins', 'Hypoglycemia', 'Jaundice', 'Malaria', 'Cervical spondylosis', '(vertigo) Paroymsal  Positional Vertigo', '(vertigo) Paroymsal  Positional Vertigo', 'Heart attack', 'Impetigo', 'Jaundice', 'Hypertension ', 'Malaria', 'hepatitis A', 'Drug Reaction', 'Peptic ulcer diseae', 'Diabetes ', 'Cervical spondylosis', '(vertigo) Paroymsal  Positional Vertigo', 'Hypothyroidism', 'Acne', 'Peptic ulcer diseae', 'Pneumonia', 'Bronchial Asthma', 'Typhoid', 'Osteoarthristis', 'Chicken pox', 'Cervical spondylosis', 'Cervical spondylosis', 'Hypertension ', 'Tuberculosis', 'hepatitis A', 'Bronchial Asthma', 'Cervical spondylosis', 'Hypothyroidism', 'Cervical spondylosis', 'GERD', 'Tuberculosis', 'Hepatitis D', 'Hypertension ', 'Cervical spondylosis', 'Chronic cholestasis', 'Hepatitis C', 'Heart attack', 'Chronic cholestasis', 'Paralysis (brain hemorrhage)', 'Hepatitis D', 'Hypertension ', 'Hepatitis C', 'Varicose veins', 'Typhoid', 'Bronchial Asthma', 'Tuberculosis', 'Pneumonia', 'Impetigo', 'Typhoid', 'Chronic cholestasis', 'Cervical spondylosis', 'Hyperthyroidism', 'Osteoarthristis', 'Hypertension ', 'Drug Reaction', 'Drug Reaction', 'Drug Reaction', 'Common Cold', 'Pneumonia', 'Typhoid', 'Gastroenteritis', 'Chicken pox', 'Dengue', 'Hepatitis E', 'Impetigo', 'Varicose veins', 'Hypothyroidism', 'Psoriasis', 'Malaria', 'Impetigo', 'Allergy', 'Drug Reaction', 'Drug Reaction', 'Migraine', 'Hypertension ', 'Gastroenteritis', 'Common Cold', 'Hepatitis B', 'Varicose veins', 'Gastroenteritis', 'hepatitis A', 'Hypertension ', 'Impetigo', 'Tuberculosis', 'Hyperthyroidism', 'Drug Reaction', 'Pneumonia', 'Psoriasis', 'Osteoarthristis', 'Malaria', 'hepatitis A', 'Alcoholic hepatitis', 'Chronic cholestasis', 'Psoriasis', 'Impetigo', 'Cervical spondylosis', 'Gastroenteritis', 'Typhoid', 'Peptic ulcer diseae', 'Cervical spondylosis', 'Dengue', 'Jaundice', 'Hypothyroidism', 'Hepatitis E', 'Pneumonia', 'Heart attack', 'Chronic cholestasis', 'Typhoid', 'Diabetes ', 'Cervical spondylosis', 'Hepatitis D', 'Hypothyroidism', 'GERD', 'Chicken pox', 'Drug Reaction', 'Tuberculosis', 'GERD', 'Hypertension ', 'Common Cold', 'Drug Reaction', 'Pneumonia', 'Cervical spondylosis', 'Tuberculosis', 'Heart attack', 'Alcoholic hepatitis', 'Cervical spondylosis', 'Hypothyroidism', 'Paralysis (brain hemorrhage)', 'Cervical spondylosis', 'Paralysis (brain hemorrhage)', 'Diabetes ', 'Dengue', 'Hepatitis B', 'Cervical spondylosis', 'Hypoglycemia', 'Tuberculosis', 'Dengue', 'Cervical spondylosis', 'Chronic cholestasis', 'Drug Reaction', 'Acne', 'Alcoholic hepatitis', 'Peptic ulcer diseae', 'Chronic cholestasis', 'Chronic cholestasis', 'Acne', 'Paralysis (brain hemorrhage)', 'Psoriasis', 'Alcoholic hepatitis', 'Hepatitis D', 'Cervical spondylosis', 'Hepatitis E', 'Common Cold', 'Hypothyroidism', 'Acne', 'Jaundice', 'Peptic ulcer diseae', 'Common Cold', 'Impetigo', 'Alcoholic hepatitis', 'Common Cold', 'Hepatitis E', 'Psoriasis', 'Gastroenteritis', 'Typhoid', 'Acne', 'Psoriasis', 'Heart attack', 'GERD', 'Jaundice', 'Pneumonia', 'Paralysis (brain hemorrhage)', 'Alcoholic hepatitis', 'Hypertension ', 'Cervical spondylosis', 'Diabetes ', 'Alcoholic hepatitis', 'Hyperthyroidism', 'Heart attack', 'Hypertension ', 'Gastroenteritis', 'Tuberculosis', 'Chronic cholestasis', 'Impetigo', 'Typhoid', 'Tuberculosis', 'Common Cold', 'Psoriasis', 'Migraine', 'Hypertension ', 'Hepatitis B', 'Drug Reaction', 'Hypertension ', 'Alcoholic hepatitis', 'Cervical spondylosis', 'Bronchial Asthma', 'Impetigo', 'Cervical spondylosis', 'Typhoid', 'Alcoholic hepatitis', 'Cervical spondylosis', 'Jaundice', 'Hypertension ', 'Psoriasis', 'Drug Reaction', 'Alcoholic hepatitis', 'Cervical spondylosis', 'Drug Reaction', 'Impetigo', 'Pneumonia', 'Hyperthyroidism', 'Allergy', 'Impetigo', 'Cervical spondylosis', 'Cervical spondylosis', 'Chicken pox', 'Drug Reaction', 'Cervical spondylosis', 'Hypertension ', 'Migraine', 'Drug Reaction', 'Psoriasis', 'Jaundice', 'Common Cold', 'Hepatitis C', 'Drug Reaction', 'Common Cold', 'Chronic cholestasis', 'Jaundice', 'Hypoglycemia', 'Acne', 'Cervical spondylosis', 'Impetigo', 'Drug Reaction', 'Tuberculosis', 'Heart attack', 'Alcoholic hepatitis', 'Psoriasis', 'Hypoglycemia', 'Hepatitis D', 'Diabetes ', 'Varicose veins', 'Hepatitis C', 'Drug Reaction', 'Cervical spondylosis', 'Drug Reaction', 'Bronchial Asthma', 'Allergy', 'AIDS', 'Drug Reaction', 'Cervical spondylosis', 'Common Cold', 'Hepatitis C', 'Cervical spondylosis', 'Hypothyroidism', 'Acne', 'Cervical spondylosis', 'Paralysis (brain hemorrhage)', 'Hypertension ', '(vertigo) Paroymsal  Positional Vertigo', 'Hypothyroidism', 'Hypoglycemia', 'Heart attack', 'Gastroenteritis', 'Hepatitis B', 'Dengue', 'Hypoglycemia', 'Osteoarthristis', '(vertigo) Paroymsal  Positional Vertigo', 'Chronic cholestasis', 'Cervical spondylosis', 'Peptic ulcer diseae', 'Chicken pox', 'Diabetes ', 'Hepatitis D', 'Gastroenteritis', 'Dengue', 'Drug Reaction', 'Osteoarthristis', 'Hepatitis B', 'Paralysis (brain hemorrhage)', 'Dengue', 'Hyperthyroidism', 'Cervical spondylosis', 'Acne', 'Impetigo', 'Hepatitis B', 'Hepatitis D', 'Gastroenteritis', 'Tuberculosis', 'hepatitis A', 'Hypothyroidism', 'Paralysis (brain hemorrhage)', 'Alcoholic hepatitis', 'Heart attack', 'Diabetes ', 'Dengue', 'Cervical spondylosis', 'GERD', 'Hypoglycemia', 'Hepatitis D', 'Hepatitis D', 'Cervical spondylosis', 'Acne', 'Chicken pox', 'Common Cold', 'AIDS', 'Hypothyroidism', 'Cervical spondylosis', 'Malaria', '(vertigo) Paroymsal  Positional Vertigo', 'Alcoholic hepatitis', 'Hepatitis E', 'Acne', 'Peptic ulcer diseae', 'Impetigo', 'Tuberculosis', 'AIDS', 'Acne', 'hepatitis A', 'Tuberculosis', 'Gastroenteritis', 'Paralysis (brain hemorrhage)', 'Impetigo', 'Hepatitis E', 'Acne', 'Chronic cholestasis', 'Chicken pox', 'Pneumonia', 'Chronic cholestasis', 'Alcoholic hepatitis', '(vertigo) Paroymsal  Positional Vertigo', 'Peptic ulcer diseae', 'Acne', 'Jaundice', 'Varicose veins', 'Drug Reaction', 'Dengue', 'Alcoholic hepatitis', 'Psoriasis', 'Cervical spondylosis', 'Hypothyroidism', 'Tuberculosis', 'Paralysis (brain hemorrhage)', 'Impetigo', 'Acne', 'AIDS', 'Paralysis (brain hemorrhage)', 'Bronchial Asthma', 'Hepatitis D', 'Hypoglycemia', 'Chronic cholestasis', 'Dengue', 'Drug Reaction', 'Impetigo', 'Hyperthyroidism', 'Gastroenteritis', 'Hypertension ', 'Drug Reaction', 'Hypertension ', 'Hypothyroidism', 'Chronic cholestasis', 'Drug Reaction', 'Dengue', 'Drug Reaction', 'Dengue', 'Chronic cholestasis', 'Hepatitis E', 'Hepatitis B', 'Hyperthyroidism', 'Psoriasis', 'Paralysis (brain hemorrhage)', 'Varicose veins', 'Psoriasis', 'Jaundice', 'Impetigo', 'Chicken pox', 'Allergy']\n"
     ]
    }
   ],
   "source": [
    "print(list(y_pred_rf))\n"
   ]
  },
  {
   "cell_type": "code",
   "execution_count": null,
   "id": "b2a007fe-7779-4a59-b68e-b4822c981f00",
   "metadata": {},
   "outputs": [],
   "source": []
  }
 ],
 "metadata": {
  "kernelspec": {
   "display_name": "Python 3 (ipykernel)",
   "language": "python",
   "name": "python3"
  },
  "language_info": {
   "codemirror_mode": {
    "name": "ipython",
    "version": 3
   },
   "file_extension": ".py",
   "mimetype": "text/x-python",
   "name": "python",
   "nbconvert_exporter": "python",
   "pygments_lexer": "ipython3",
   "version": "3.11.7"
  }
 },
 "nbformat": 4,
 "nbformat_minor": 5
}
